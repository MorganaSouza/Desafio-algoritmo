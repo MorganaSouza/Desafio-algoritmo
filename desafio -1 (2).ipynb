{
 "cells": [
  {
   "cell_type": "code",
   "execution_count": 3,
   "metadata": {},
   "outputs": [],
   "source": [
    "1.\n",
    "#solicitação ao usuário que insira o ano de fabricação do carro\n",
    "ano = int(input('digite o ano de fabricação do carro'))\n",
    "\n",
    "#solicitação ao usuário que insira o preço do automóvel\n",
    "preço = float(input('qual o preço de fabricação do carro'))\n",
    "\n",
    "#verifica ano de fabricação antes de 1990\n",
    "if ano < 1990:\n",
    "    taxa = 1/100 * preço\n",
    "else:\n",
    "    taxa = 1.5/100 * preço\n",
    "    \n",
    "#imprime o imposto a ser pago\n",
    "    imposto = preço * taxa \n",
    "    print (\"o imposto a ser pago é de R$\", imposto)"
   ]
  },
  {
   "cell_type": "code",
   "execution_count": 40,
   "metadata": {},
   "outputs": [
    {
     "ename": "TypeError",
     "evalue": "'str' object is not callable",
     "output_type": "error",
     "traceback": [
      "\u001b[1;31m---------------------------------------------------------------------------\u001b[0m",
      "\u001b[1;31mTypeError\u001b[0m                                 Traceback (most recent call last)",
      "Cell \u001b[1;32mIn[40], line 31\u001b[0m\n\u001b[0;32m     27\u001b[0m diferença \u001b[38;5;241m=\u001b[39m novo_salario \u001b[38;5;241m-\u001b[39m salario_atual\n\u001b[0;32m     29\u001b[0m \u001b[38;5;66;03m#imprime o resultado\u001b[39;00m\n\u001b[1;32m---> 31\u001b[0m \u001b[38;5;28;43mprint\u001b[39;49m\u001b[43m(\u001b[49m\u001b[38;5;124;43m'\u001b[39;49m\u001b[38;5;124;43mSalário antigo: R$, salario_atual\u001b[39;49m\u001b[38;5;124;43m'\u001b[39;49m\u001b[43m)\u001b[49m\n\u001b[0;32m     32\u001b[0m \u001b[38;5;28mprint\u001b[39m(\u001b[38;5;124m'\u001b[39m\u001b[38;5;124mnovo salário:  R$, novo_salario\u001b[39m\u001b[38;5;124m'\u001b[39m)\n\u001b[0;32m     33\u001b[0m \u001b[38;5;28mprint\u001b[39m(\u001b[38;5;124m'\u001b[39m\u001b[38;5;124mDiferença:  R$, diferença\u001b[39m\u001b[38;5;124m'\u001b[39m)\n",
      "\u001b[1;31mTypeError\u001b[0m: 'str' object is not callable"
     ]
    }
   ],
   "source": [
    "2.\n",
    "#dicionário com códigos de cargos e percentuais de\n",
    "cargos = {\n",
    "    101: 0.10, #gerente\n",
    "    102: 0.20, #engenheiro\n",
    "    103:0.30,  #técnico\n",
    "}\n",
    "#solicitar o usuário que insira o salário\n",
    "codigocargo = float(input('digite o código do seu cargo'))\n",
    "salario_atual = float(input('digite o salário do seu cargo'))\n",
    "\n",
    "#Calculo aumento salario, aumento de 40%\n",
    "\n",
    "if codigocargo in cargos:\n",
    "    percentual_aumento = cargos[codigocargo]\n",
    "else: \n",
    "    percentual_aumento = 0.40\n",
    "\n",
    "#calculo de  aumento\n",
    "aumento = salario_atual * percentual_aumento\n",
    "\n",
    "#novo salário após aumento\n",
    "\n",
    "novo_salario = salario_atual + aumento\n",
    "\n",
    "#diferença\n",
    "diferença = novo_salario - salario_atual\n",
    "\n",
    "#imprime o resultado\n",
    "\n",
    "print('Salário antigo: R$, salario_atual')\n",
    "print('novo salário:  R$, novo_salario')\n",
    "print('Diferença:  R$, diferença')"
   ]
  }
 ],
 "metadata": {
  "kernelspec": {
   "display_name": "Python 3",
   "language": "python",
   "name": "python3"
  },
  "language_info": {
   "codemirror_mode": {
    "name": "ipython",
    "version": 3
   },
   "file_extension": ".py",
   "mimetype": "text/x-python",
   "name": "python",
   "nbconvert_exporter": "python",
   "pygments_lexer": "ipython3",
   "version": "3.11.4"
  }
 },
 "nbformat": 4,
 "nbformat_minor": 2
}
